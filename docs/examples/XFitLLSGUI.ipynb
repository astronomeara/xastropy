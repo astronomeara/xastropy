{
 "cells": [
  {
   "cell_type": "markdown",
   "metadata": {},
   "source": [
    "# Notes on the XFitLLSGUI (v0.1)"
   ]
  },
  {
   "cell_type": "markdown",
   "metadata": {},
   "source": [
    "## Quick background\n",
    "\n",
    "This GUI is based on one originally built by JXP and JMO to\n",
    "enable the manual fitting of LLS in absorption line spectra.\n",
    "That GUI was applied to real and mock data for a number of \n",
    "LLS surveys.\n",
    "\n",
    "This Python-based incantation follows that prescription, by\n",
    "and large."
   ]
  },
  {
   "cell_type": "markdown",
   "metadata": {},
   "source": [
    "## Launching the GUI\n",
    "\n",
    "The GUI is instantiated through the XFitLLSGUI class\n",
    "which combines several widgets.  I give a few examples\n",
    "below."
   ]
  },
  {
   "cell_type": "markdown",
   "metadata": {},
   "source": [
    "### From within ipython \n",
    "Need to pass the call a spectrum file or the XSpectrum1D \n",
    "object itself.\n",
    "\n",
    "**WARNING:** -- You cannot use inline matplotlib (I think)"
   ]
  },
  {
   "cell_type": "code",
   "execution_count": null,
   "metadata": {
    "collapsed": true
   },
   "outputs": [],
   "source": [
    "from xastropy.xguis import spec_guis as xxsg\n",
    "reload(xxsg)\n",
    "#\n",
    "spec_fil = '/Users/xavier/VLT/XShooter/LP/idl_reduced_frames/0952-0115_uvb_coadd_vbin_flx.fits'\n",
    "xxsg.run_fitlls(spec_fil)"
   ]
  },
  {
   "cell_type": "markdown",
   "metadata": {},
   "source": [
    "### Command line call -- Recommended\n",
    "\n",
    "Run spec_guis with the '4' flag\n",
    "\n",
    "I recommend you generate an alias like this:\n",
    "\n",
    "    alias xfitlls 'python ~/xastropy/xastropy/xguis/spec_guis.py 4'\n",
    "\n",
    "Then it is as simple as:\n",
    "\n",
    "    unix> xfitlls 0952-0115_uvb_coadd_vbin_flx.fits\n",
    "    \n",
    "Here is the current help:\n",
    "\n",
    "    usage: spec_guis.py [-h] [-out_file OUT_FILE] [-smooth SMOOTH] flag in_file\n",
    "\n",
    "    Parser for XFitLLSGUI\n",
    "\n",
    "    positional arguments:\n",
    "      flag                GUI flag (ignored)\n",
    "      in_file             Spectral file\n",
    "\n",
    "    optional arguments:\n",
    "      -h, --help          show this help message and exit\n",
    "      -out_file OUT_FILE  LLS Fit file\n",
    "      -smooth SMOOTH      Smoothing (pixels)\n",
    "      -lls_fit_file LLS_FIT_FILE\n",
    "                          Input LLS Fit file"
   ]
  },
  {
   "cell_type": "markdown",
   "metadata": {},
   "source": [
    "---\n",
    "## Fiddling about with the GUI"
   ]
  },
  {
   "cell_type": "markdown",
   "metadata": {},
   "source": [
    "### Basics\n",
    "\n",
    "(1) Most of the action occurs in the plot window.  \n",
    "\n",
    "(2) The obvious exceptions are when you wish to change\n",
    "between LLS for fiddling their parameters.  For that,\n",
    "you need to select the LLS in the list widget.\n",
    "\n",
    "(3) You can modify redshift or N_HI in the boxes provided.\n",
    "\n",
    "(4) Lastly, you can Write, Write+Quit, or Quit with the \n",
    "boxes at the bottom right.\n",
    "\n",
    "**Note:** You have to click in the plot window for key strokes\n",
    "to take effect.  This includes after actions that engage the LLS list widget."
   ]
  },
  {
   "cell_type": "markdown",
   "metadata": {},
   "source": [
    "### Navigating\n",
    "These key strokes for navigating the spectral window\n",
    "are identical to those for the XSpecGUI.\n",
    "Please refer to its documentation.  "
   ]
  },
  {
   "cell_type": "markdown",
   "metadata": {},
   "source": [
    "### LLS commands\n",
    "\n",
    "* A -- Add a new LLS\n",
    "* D -- Delete the selected LLS\n",
    "* n/N -- Decrease/increase the N_HI column of the selected LLS\n",
    "* a -- Set the LLS redshift such that the cursor is at Lya\n",
    "* L -- Set the LLS redshift such that the cursor is at the LL"
   ]
  },
  {
   "cell_type": "markdown",
   "metadata": {},
   "source": [
    "### Continuum commands\n",
    "\n",
    "* C -- Fiddle with the normalization\n",
    "* 1/2 -- Tilt the continuum with a power-law pivoting about the median wavelength value\n"
   ]
  },
  {
   "cell_type": "markdown",
   "metadata": {},
   "source": [
    "---\n",
    "## Output/Input\n",
    "\n",
    "When you Write or Write+Quit, a JSON output file is generated\n",
    "that saves the LLS parameters, the continuum parameters and a\n",
    "few other bits and pieces.  Here is an example:\n",
    "\n",
    "{\n",
    "    \"LLS\": {\n",
    "        \"1\": {\n",
    "            \"NHI\": 17.3,\n",
    "            \"z\": 4.2507734167066165\n",
    "        },\n",
    "        \"2\": {\n",
    "            \"NHI\": 17.3,\n",
    "            \"z\": 3.9736040175371814\n",
    "        }\n",
    "    },\n",
    "    \"conti\": {\n",
    "        \"Norm\": 5.7505256854830653e-18,\n",
    "        \"piv_wv\": 4166.4861195151479,\n",
    "        \"tilt\": 0.0\n",
    "    },\n",
    "    \"spec_file\": \"/Users/xavier/VLT/XShooter/LP/idl_reduced_frames/0952-0115_uvb_coadd_vbin_flx.fits\"\n",
    "}\n"
   ]
  },
  {
   "cell_type": "markdown",
   "metadata": {},
   "source": [
    "### Reading a previous fit\n",
    "\n",
    "Just pass the JSON file to lls_file, e.g.\n",
    "\n",
    "    unix> xfitlls 0952-0115_uvb_coadd_vbin_flx.fits -lls_fit_file=tmp.json"
   ]
  },
  {
   "cell_type": "code",
   "execution_count": null,
   "metadata": {
    "collapsed": true
   },
   "outputs": [],
   "source": []
  }
 ],
 "metadata": {
  "kernelspec": {
   "display_name": "Python 2",
   "language": "python",
   "name": "python2"
  },
  "language_info": {
   "codemirror_mode": {
    "name": "ipython",
    "version": 2
   },
   "file_extension": ".py",
   "mimetype": "text/x-python",
   "name": "python",
   "nbconvert_exporter": "python",
   "pygments_lexer": "ipython2",
   "version": "2.7.10"
  }
 },
 "nbformat": 4,
 "nbformat_minor": 0
}
